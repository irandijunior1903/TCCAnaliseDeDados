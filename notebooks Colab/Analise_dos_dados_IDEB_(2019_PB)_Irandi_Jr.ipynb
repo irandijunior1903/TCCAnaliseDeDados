{
  "nbformat": 4,
  "nbformat_minor": 0,
  "metadata": {
    "colab": {
      "provenance": [],
      "toc_visible": true,
      "include_colab_link": true
    },
    "kernelspec": {
      "name": "python3",
      "display_name": "Python 3"
    },
    "language_info": {
      "name": "python"
    }
  },
  "cells": [
    {
      "cell_type": "markdown",
      "metadata": {
        "id": "view-in-github",
        "colab_type": "text"
      },
      "source": [
        "<a href=\"https://colab.research.google.com/github/irandijunior1903/TCCAnaliseDeDados/blob/main/notebooks%20Colab/Analise_dos_dados_IDEB_(2019_PB)_Irandi_Jr.ipynb\" target=\"_parent\"><img src=\"https://colab.research.google.com/assets/colab-badge.svg\" alt=\"Open In Colab\"/></a>"
      ]
    },
    {
      "cell_type": "markdown",
      "source": [
        "# Importando as bibliotecas necessárias\n"
      ],
      "metadata": {
        "id": "C7fBZaqWayAJ"
      }
    },
    {
      "cell_type": "code",
      "source": [
        "import matplotlib.pyplot as plt\n",
        "import statsmodels.api as sm\n",
        "import sklearn.linear_model as lm\n",
        "\n",
        "import pandas as pd\n",
        "import numpy as np\n",
        "import seaborn as sns\n",
        "\n",
        "from sklearn.feature_selection import RFE\n",
        "from numpy import array\n",
        "from scipy import stats as st\n",
        "from statsmodels.stats.outliers_influence import variance_inflation_factor\n",
        "from yellowbrick.features import Rank2D"
      ],
      "metadata": {
        "id": "8Fx3OHLuNRFE"
      },
      "execution_count": null,
      "outputs": []
    },
    {
      "cell_type": "markdown",
      "source": [
        "# Dados do IDEB 2019 (Escolas)"
      ],
      "metadata": {
        "id": "DjYsRZXtbCcK"
      }
    },
    {
      "cell_type": "code",
      "source": [
        "# Lendo o arquivo do repositorio do GitHub\n",
        "escolas_pb = pd.read_csv('https://raw.githubusercontent.com/irandijunior1903/dadosFiltradosTCC/main/dados_escolas_pb_ideb.csv')"
      ],
      "metadata": {
        "id": "oSb5fqUSeosw"
      },
      "execution_count": null,
      "outputs": []
    },
    {
      "cell_type": "code",
      "source": [
        "# Renomeando a coluna do id das escolas para o merge com os microdados do censo escolar\n",
        "escolas_pb = escolas_pb.rename(columns={\"ID_ESCOLA\": \"CO_ENTIDADE\"})"
      ],
      "metadata": {
        "id": "E4cEJ6GGeSWo"
      },
      "execution_count": null,
      "outputs": []
    },
    {
      "cell_type": "code",
      "source": [
        "# Plotando em contagem as notas do IDEB das escolas públicas da Paraíba\n",
        "sns.histplot(data=escolas_pb, x=\"VL_OBSERVADO_2019\", stat=\"count\")"
      ],
      "metadata": {
        "id": "2CxAVYxESymQ",
        "colab": {
          "base_uri": "https://localhost:8080/",
          "height": 378
        },
        "outputId": "ec6ecc8b-577d-4c03-dee6-ec2b790d5c09"
      },
      "execution_count": null,
      "outputs": [
        {
          "output_type": "execute_result",
          "data": {
            "text/plain": [
              "<matplotlib.axes._subplots.AxesSubplot at 0x7f3a123eef70>"
            ]
          },
          "metadata": {},
          "execution_count": 5
        },
        {
          "output_type": "display_data",
          "data": {
            "text/plain": [
              "<Figure size 576x396 with 1 Axes>"
            ],
            "image/png": "[encoded data removed]"
          },
          "metadata": {}
        }
      ]
    },
    {
      "cell_type": "markdown",
      "source": [
        "# Microdados do Censo Escolar "
      ],
      "metadata": {
        "id": "Wqj6wDi-bLVM"
      }
    },
    {
      "cell_type": "code",
      "source": [
        "# Lendo o arquivo do repositorio do GitHub\n",
        "microdados_pb = pd.read_csv('https://raw.githubusercontent.com/irandijunior1903/dadosFiltradosTCC/main/microdados_censo_pb.csv')"
      ],
      "metadata": {
        "id": "QY1E1MQYE6W6"
      },
      "execution_count": null,
      "outputs": []
    },
    {
      "cell_type": "markdown",
      "source": [
        "# Junção dos conjuntos de dados e filtragem de valores NaN"
      ],
      "metadata": {
        "id": "KkVSswLswDuG"
      }
    },
    {
      "cell_type": "code",
      "source": [
        "# Fazendo o merge entre os dataframes de escolas com os microdados do censo, as quais tem o código da escola em comum\n",
        "dados_merge = pd.merge(escolas_pb, microdados_pb, on='CO_ENTIDADE')\n",
        "dados_merge = dados_merge.drop(columns='Unnamed: 0_x')\n",
        "\n",
        "# Exibindo as colunas por quantidade de valores 'NaN'\n",
        "dados_merge.isna().sum().sort_values(ascending=False).head(45)"
      ],
      "metadata": {
        "colab": {
          "base_uri": "https://localhost:8080/"
        },
        "id": "57hAKRE6wNOg",
        "outputId": "6cda0eeb-db16-442e-fac8-952d3fc6e942"
      },
      "execution_count": null,
      "outputs": [
        {
          "output_type": "execute_result",
          "data": {
            "text/plain": [
              "IN_MATERIAL_ESP_NAO_UTILIZA      293\n",
              "IN_MATERIAL_PED_NENHUM           293\n",
              "IN_AGUA_FILTRADA                 293\n",
              "IN_ENERGIA_GERADOR               293\n",
              "IN_ENERGIA_OUTROS                293\n",
              "IN_FINAL_SEMANA                  293\n",
              "IN_BRASIL_ALFABETIZADO           293\n",
              "IN_LIXO_JOGA_OUTRA_AREA          293\n",
              "IN_LIXO_OUTROS                   293\n",
              "IN_LIXO_RECICLA                  293\n",
              "IN_MATERIAL_ESP_INDIGENA         293\n",
              "IN_MATERIAL_ESP_QUILOMBOLA       293\n",
              "IN_BANHEIRO_FORA_PREDIO          293\n",
              "IN_LOCAL_FUNC_TEMPLO_IGREJA      293\n",
              "IN_BANHEIRO_DENTRO_PREDIO        293\n",
              "IN_BERCARIO                      293\n",
              "IN_PROF_ASSIST_SOCIAL            293\n",
              "IN_PROF_GESTAO                   293\n",
              "IN_DEPENDENCIAS_PNE              293\n",
              "IN_LAVANDERIA                    293\n",
              "IN_EQUIP_FOTO                    293\n",
              "IN_EQUIP_FAX                     293\n",
              "IN_EQUIP_RETROPROJETOR           293\n",
              "IN_EQUIP_VIDEOCASSETE            293\n",
              "IN_LOCAL_FUNC_CASA_PROFESSOR     293\n",
              "IN_EQUIP_NENHUM                  293\n",
              "IN_MANT_ESCOLA_PRIVADA_EMP       293\n",
              "IN_LOCAL_FUNC_SALAS_EMPRESA      293\n",
              "IN_MANT_ESCOLA_PRIVADA_ONG       293\n",
              "IN_MANT_ESCOLA_PRIVADA_OSCIP     293\n",
              "IN_MANT_ESCOLA_PRIV_ONG_OSCIP    293\n",
              "IN_MANT_ESCOLA_PRIVADA_SIST_S    293\n",
              "IN_MANT_ESCOLA_PRIVADA_SIND      293\n",
              "IN_CONVENIADA_PP                 293\n",
              "IN_MANT_ESCOLA_PRIVADA_S_FINS    293\n",
              "IN_RESERVA_PPI                   281\n",
              "IN_RESERVA_NENHUMA               281\n",
              "IN_RESERVA_RENDA                 281\n",
              "IN_RESERVA_PUBLICA               281\n",
              "IN_RESERVA_PCD                   281\n",
              "IN_RESERVA_OUTROS                281\n",
              "IN_BANDA_LARGA                    16\n",
              "IN_PREDIO_COMPARTILHADO            4\n",
              "IN_PROF_BIBLIOTECARIO              0\n",
              "IN_PROF_ADMINISTRATIVOS            0\n",
              "dtype: int64"
            ]
          },
          "metadata": {},
          "execution_count": 5
        }
      ]
    },
    {
      "cell_type": "code",
      "source": [
        "#Removendo as colunas com pelo menos 1 NaN\n",
        "dm = dados_merge.dropna(axis=1, how='any')\n",
        "dm.isna().sum().sort_values(ascending=False)"
      ],
      "metadata": {
        "colab": {
          "base_uri": "https://localhost:8080/"
        },
        "id": "v9-0uU5iwSss",
        "outputId": "e9077995-ddf6-4d4c-bd30-069d1f1f5ca0"
      },
      "execution_count": null,
      "outputs": [
        {
          "output_type": "execute_result",
          "data": {
            "text/plain": [
              "SG_UF                         0\n",
              "IN_MATERIAL_PED_MULTIMIDIA    0\n",
              "IN_PROF_ADMINISTRATIVOS       0\n",
              "IN_PROF_SERVICOS_GERAIS       0\n",
              "IN_PROF_BIBLIOTECARIO         0\n",
              "                             ..\n",
              "IN_LABORATORIO_INFORMATICA    0\n",
              "IN_PATIO_COBERTO              0\n",
              "IN_PATIO_DESCOBERTO           0\n",
              "IN_PARQUE_INFANTIL            0\n",
              "IN_ESP_CE                     0\n",
              "Length: 178, dtype: int64"
            ]
          },
          "metadata": {},
          "execution_count": 6
        }
      ]
    },
    {
      "cell_type": "markdown",
      "source": [
        "#T-test das variáveis do Censo em relação a nota do Ideb"
      ],
      "metadata": {
        "id": "iHT7S-hoDTE_"
      }
    },
    {
      "cell_type": "code",
      "source": [
        "# Função para realizar o t-test com colunas específicas\n",
        "numerics = ['int16', 'int32', 'int64', 'float16', 'float32', 'float64']\n",
        "df_numeric = dm.select_dtypes(include=numerics)\n",
        "compare_cols = df_numeric.columns\n",
        "df = pd.DataFrame(data=df_numeric)               \n",
        "def all_pairwise(df, compare_cols, col='VL_OBSERVADO_2019'):\n",
        "  list_of_dfs = []\n",
        "  for compare_col in compare_cols:\n",
        "    v0 = df[df[compare_col] == 0][col]\n",
        "    v1 = df[df[compare_col] == 1][col]\n",
        "    n = len(v0.index) + len(v1.index)\n",
        "    prop_v1 = 0 if n == 0 else len(v1.index) / n\n",
        "    results = st.ttest_ind(v0, v1, nan_policy='omit')\n",
        "    tmp = pd.DataFrame({\n",
        "      'mean_v0': v0.mean(),\n",
        "      'mean_v1': v1.mean(),\n",
        "      'propv1': prop_v1,\n",
        "      'tstat': results.statistic,\n",
        "      'pvalue': results.pvalue}, index = [compare_col])\n",
        "    if 0.10 < prop_v1 < 0.90 and results.pvalue <= 0.05:\n",
        "     list_of_dfs.append(tmp)\n",
        "  df_stats = pd.concat(list_of_dfs)\n",
        "  return df_stats\n",
        "\n",
        "df_stats = all_pairwise(df, compare_cols)\n",
        "df_stats.sort_values(['pvalue'], ascending=True)"
      ],
      "metadata": {
        "colab": {
          "base_uri": "https://localhost:8080/",
          "height": 860
        },
        "id": "gKbEodgvC90V",
        "outputId": "48ac9601-4db3-442d-ebdb-bb3ad9973991"
      },
      "execution_count": null,
      "outputs": [
        {
          "output_type": "stream",
          "name": "stderr",
          "text": [
            "/usr/local/lib/python3.8/dist-packages/numpy/core/fromnumeric.py:3723: RuntimeWarning: Degrees of freedom <= 0 for slice\n",
            "  return _methods._var(a, axis=axis, dtype=dtype, out=out, ddof=ddof,\n",
            "/usr/local/lib/python3.8/dist-packages/numpy/core/_methods.py:254: RuntimeWarning: invalid value encountered in double_scalars\n",
            "  ret = ret.dtype.type(ret / rcount)\n"
          ]
        },
        {
          "output_type": "execute_result",
          "data": {
            "text/plain": [
              "                                 mean_v0   mean_v1    propv1     tstat  \\\n",
              "IN_NOTURNO                      4.183607  3.733190  0.791809  4.673058   \n",
              "IN_LABORATORIO_CIENCIAS         3.669595  3.987586  0.494881 -4.025919   \n",
              "IN_PROF_PEDAGOGIA               3.625225  3.950000  0.621160 -3.987457   \n",
              "IN_EJA                          4.093243  3.736986  0.747440  3.913866   \n",
              "IN_QUADRA_ESPORTES_COBERTA      3.719337  4.000893  0.382253 -3.439791   \n",
              "IN_EJA_MED                      4.042500  3.746009  0.726962  3.316396   \n",
              "IN_PROF_TEC                     3.769388  4.120833  0.163823 -3.263876   \n",
              "IN_PROF                         3.768619  4.085185  0.184300 -3.073708   \n",
              "IN_PROF_BIBLIOTECARIO           3.693846  3.933129  0.556314 -2.974015   \n",
              "IN_LABORATORIO_INFORMATICA      3.546512  3.875200  0.853242 -2.907857   \n",
              "IN_QUADRA_ESPORTES              3.707042  3.939735  0.515358 -2.907355   \n",
              "IN_REFEITORIO                   3.738068  3.960684  0.399317 -2.720979   \n",
              "IN_AUDITORIO                    3.768000  4.022059  0.232082 -2.675605   \n",
              "IN_FUND                         3.922148  3.728472  0.491468  2.409932   \n",
              "IN_EJA_FUND                     3.894416  3.688542  0.327645  2.404971   \n",
              "IN_EQUIP_IMPRESSORA             3.709649  3.901676  0.610922 -2.328708   \n",
              "IN_ACES_INTERNET_DISP_PESSOAIS  3.778788  4.006452  0.211604 -2.312678   \n",
              "IN_FUND_AF                      3.913245  3.735211  0.484642  2.211148   \n",
              "IN_PROF_SECRETARIO              4.055263  3.792941  0.870307  2.189830   \n",
              "IN_PROF_COORDENADOR             3.779111  3.985294  0.232082 -2.162343   \n",
              "IN_BIBLIOTECA                   3.655932  3.870085  0.798635 -2.133006   \n",
              "IN_BIBLIOTECA_SALA_LEITURA      3.633333  3.864898  0.836177 -2.128608   \n",
              "IN_PROF_MONITORES               3.772549  3.951685  0.303754 -2.044827   \n",
              "\n",
              "                                  pvalue  \n",
              "IN_NOTURNO                      0.000005  \n",
              "IN_LABORATORIO_CIENCIAS         0.000072  \n",
              "IN_PROF_PEDAGOGIA               0.000085  \n",
              "IN_EJA                          0.000113  \n",
              "IN_QUADRA_ESPORTES_COBERTA      0.000667  \n",
              "IN_EJA_MED                      0.001028  \n",
              "IN_PROF_TEC                     0.001230  \n",
              "IN_PROF                         0.002315  \n",
              "IN_PROF_BIBLIOTECARIO           0.003185  \n",
              "IN_LABORATORIO_INFORMATICA      0.003919  \n",
              "IN_QUADRA_ESPORTES              0.003925  \n",
              "IN_REFEITORIO                   0.006901  \n",
              "IN_AUDITORIO                    0.007882  \n",
              "IN_FUND                         0.016576  \n",
              "IN_EJA_FUND                     0.016798  \n",
              "IN_EQUIP_IMPRESSORA             0.020559  \n",
              "IN_ACES_INTERNET_DISP_PESSOAIS  0.021438  \n",
              "IN_FUND_AF                      0.027803  \n",
              "IN_PROF_SECRETARIO              0.029330  \n",
              "IN_PROF_COORDENADOR             0.031406  \n",
              "IN_BIBLIOTECA                   0.033761  \n",
              "IN_BIBLIOTECA_SALA_LEITURA      0.034127  \n",
              "IN_PROF_MONITORES               0.041771  "
            ],
            "text/html": [
              "\n",
              "  <div id=\"df-69583152-101b-4287-9484-c6166ba39774\">\n",
              "    <div class=\"colab-df-container\">\n",
              "      <div>\n",
              "<style scoped>\n",
              "    .dataframe tbody tr th:only-of-type {\n",
              "        vertical-align: middle;\n",
              "    }\n",
              "\n",
              "    .dataframe tbody tr th {\n",
              "        vertical-align: top;\n",
              "    }\n",
              "\n",
              "    .dataframe thead th {\n",
              "        text-align: right;\n",
              "    }\n",
              "</style>\n",
              "<table border=\"1\" class=\"dataframe\">\n",
              "  <thead>\n",
              "    <tr style=\"text-align: right;\">\n",
              "      <th></th>\n",
              "      <th>mean_v0</th>\n",
              "      <th>mean_v1</th>\n",
              "      <th>propv1</th>\n",
              "      <th>tstat</th>\n",
              "      <th>pvalue</th>\n",
              "    </tr>\n",
              "  </thead>\n",
              "  <tbody>\n",
              "    <tr>\n",
              "      <th>IN_NOTURNO</th>\n",
              "      <td>4.183607</td>\n",
              "      <td>3.733190</td>\n",
              "      <td>0.791809</td>\n",
              "      <td>4.673058</td>\n",
              "      <td>0.000005</td>\n",
              "    </tr>\n",
              "    <tr>\n",
              "      <th>IN_LABORATORIO_CIENCIAS</th>\n",
              "      <td>3.669595</td>\n",
              "      <td>3.987586</td>\n",
              "      <td>0.494881</td>\n",
              "      <td>-4.025919</td>\n",
              "      <td>0.000072</td>\n",
              "    </tr>\n",
              "    <tr>\n",
              "      <th>IN_PROF_PEDAGOGIA</th>\n",
              "      <td>3.625225</td>\n",
              "      <td>3.950000</td>\n",
              "      <td>0.621160</td>\n",
              "      <td>-3.987457</td>\n",
              "      <td>0.000085</td>\n",
              "    </tr>\n",
              "    <tr>\n",
              "      <th>IN_EJA</th>\n",
              "      <td>4.093243</td>\n",
              "      <td>3.736986</td>\n",
              "      <td>0.747440</td>\n",
              "      <td>3.913866</td>\n",
              "      <td>0.000113</td>\n",
              "    </tr>\n",
              "    <tr>\n",
              "      <th>IN_QUADRA_ESPORTES_COBERTA</th>\n",
              "      <td>3.719337</td>\n",
              "      <td>4.000893</td>\n",
              "      <td>0.382253</td>\n",
              "      <td>-3.439791</td>\n",
              "      <td>0.000667</td>\n",
              "    </tr>\n",
              "    <tr>\n",
              "      <th>IN_EJA_MED</th>\n",
              "      <td>4.042500</td>\n",
              "      <td>3.746009</td>\n",
              "      <td>0.726962</td>\n",
              "      <td>3.316396</td>\n",
              "      <td>0.001028</td>\n",
              "    </tr>\n",
              "    <tr>\n",
              "      <th>IN_PROF_TEC</th>\n",
              "      <td>3.769388</td>\n",
              "      <td>4.120833</td>\n",
              "      <td>0.163823</td>\n",
              "      <td>-3.263876</td>\n",
              "      <td>0.001230</td>\n",
              "    </tr>\n",
              "    <tr>\n",
              "      <th>IN_PROF</th>\n",
              "      <td>3.768619</td>\n",
              "      <td>4.085185</td>\n",
              "      <td>0.184300</td>\n",
              "      <td>-3.073708</td>\n",
              "      <td>0.002315</td>\n",
              "    </tr>\n",
              "    <tr>\n",
              "      <th>IN_PROF_BIBLIOTECARIO</th>\n",
              "      <td>3.693846</td>\n",
              "      <td>3.933129</td>\n",
              "      <td>0.556314</td>\n",
              "      <td>-2.974015</td>\n",
              "      <td>0.003185</td>\n",
              "    </tr>\n",
              "    <tr>\n",
              "      <th>IN_LABORATORIO_INFORMATICA</th>\n",
              "      <td>3.546512</td>\n",
              "      <td>3.875200</td>\n",
              "      <td>0.853242</td>\n",
              "      <td>-2.907857</td>\n",
              "      <td>0.003919</td>\n",
              "    </tr>\n",
              "    <tr>\n",
              "      <th>IN_QUADRA_ESPORTES</th>\n",
              "      <td>3.707042</td>\n",
              "      <td>3.939735</td>\n",
              "      <td>0.515358</td>\n",
              "      <td>-2.907355</td>\n",
              "      <td>0.003925</td>\n",
              "    </tr>\n",
              "    <tr>\n",
              "      <th>IN_REFEITORIO</th>\n",
              "      <td>3.738068</td>\n",
              "      <td>3.960684</td>\n",
              "      <td>0.399317</td>\n",
              "      <td>-2.720979</td>\n",
              "      <td>0.006901</td>\n",
              "    </tr>\n",
              "    <tr>\n",
              "      <th>IN_AUDITORIO</th>\n",
              "      <td>3.768000</td>\n",
              "      <td>4.022059</td>\n",
              "      <td>0.232082</td>\n",
              "      <td>-2.675605</td>\n",
              "      <td>0.007882</td>\n",
              "    </tr>\n",
              "    <tr>\n",
              "      <th>IN_FUND</th>\n",
              "      <td>3.922148</td>\n",
              "      <td>3.728472</td>\n",
              "      <td>0.491468</td>\n",
              "      <td>2.409932</td>\n",
              "      <td>0.016576</td>\n",
              "    </tr>\n",
              "    <tr>\n",
              "      <th>IN_EJA_FUND</th>\n",
              "      <td>3.894416</td>\n",
              "      <td>3.688542</td>\n",
              "      <td>0.327645</td>\n",
              "      <td>2.404971</td>\n",
              "      <td>0.016798</td>\n",
              "    </tr>\n",
              "    <tr>\n",
              "      <th>IN_EQUIP_IMPRESSORA</th>\n",
              "      <td>3.709649</td>\n",
              "      <td>3.901676</td>\n",
              "      <td>0.610922</td>\n",
              "      <td>-2.328708</td>\n",
              "      <td>0.020559</td>\n",
              "    </tr>\n",
              "    <tr>\n",
              "      <th>IN_ACES_INTERNET_DISP_PESSOAIS</th>\n",
              "      <td>3.778788</td>\n",
              "      <td>4.006452</td>\n",
              "      <td>0.211604</td>\n",
              "      <td>-2.312678</td>\n",
              "      <td>0.021438</td>\n",
              "    </tr>\n",
              "    <tr>\n",
              "      <th>IN_FUND_AF</th>\n",
              "      <td>3.913245</td>\n",
              "      <td>3.735211</td>\n",
              "      <td>0.484642</td>\n",
              "      <td>2.211148</td>\n",
              "      <td>0.027803</td>\n",
              "    </tr>\n",
              "    <tr>\n",
              "      <th>IN_PROF_SECRETARIO</th>\n",
              "      <td>4.055263</td>\n",
              "      <td>3.792941</td>\n",
              "      <td>0.870307</td>\n",
              "      <td>2.189830</td>\n",
              "      <td>0.029330</td>\n",
              "    </tr>\n",
              "    <tr>\n",
              "      <th>IN_PROF_COORDENADOR</th>\n",
              "      <td>3.779111</td>\n",
              "      <td>3.985294</td>\n",
              "      <td>0.232082</td>\n",
              "      <td>-2.162343</td>\n",
              "      <td>0.031406</td>\n",
              "    </tr>\n",
              "    <tr>\n",
              "      <th>IN_BIBLIOTECA</th>\n",
              "      <td>3.655932</td>\n",
              "      <td>3.870085</td>\n",
              "      <td>0.798635</td>\n",
              "      <td>-2.133006</td>\n",
              "      <td>0.033761</td>\n",
              "    </tr>\n",
              "    <tr>\n",
              "      <th>IN_BIBLIOTECA_SALA_LEITURA</th>\n",
              "      <td>3.633333</td>\n",
              "      <td>3.864898</td>\n",
              "      <td>0.836177</td>\n",
              "      <td>-2.128608</td>\n",
              "      <td>0.034127</td>\n",
              "    </tr>\n",
              "    <tr>\n",
              "      <th>IN_PROF_MONITORES</th>\n",
              "      <td>3.772549</td>\n",
              "      <td>3.951685</td>\n",
              "      <td>0.303754</td>\n",
              "      <td>-2.044827</td>\n",
              "      <td>0.041771</td>\n",
              "    </tr>\n",
              "  </tbody>\n",
              "</table>\n",
              "</div>\n",
              "      <button class=\"colab-df-convert\" onclick=\"convertToInteractive('df-69583152-101b-4287-9484-c6166ba39774')\"\n",
              "              title=\"Convert this dataframe to an interactive table.\"\n",
              "              style=\"display:none;\">\n",
              "        \n",
              "  <svg xmlns=\"http://www.w3.org/2000/svg\" height=\"24px\"viewBox=\"0 0 24 24\"\n",
              "       width=\"24px\">\n",
              "    <path d=\"M0 0h24v24H0V0z\" fill=\"none\"/>\n",
              "    <path d=\"M18.56 5.44l.94 2.06.94-2.06 2.06-.94-2.06-.94-.94-2.06-.94 2.06-2.06.94zm-11 1L8.5 8.5l.94-2.06 2.06-.94-2.06-.94L8.5 2.5l-.94 2.06-2.06.94zm10 10l.94 2.06.94-2.06 2.06-.94-2.06-.94-.94-2.06-.94 2.06-2.06.94z\"/><path d=\"M17.41 7.96l-1.37-1.37c-.4-.4-.92-.59-1.43-.59-.52 0-1.04.2-1.43.59L10.3 9.45l-7.72 7.72c-.78.78-.78 2.05 0 2.83L4 21.41c.39.39.9.59 1.41.59.51 0 1.02-.2 1.41-.59l7.78-7.78 2.81-2.81c.8-.78.8-2.07 0-2.86zM5.41 20L4 18.59l7.72-7.72 1.47 1.35L5.41 20z\"/>\n",
              "  </svg>\n",
              "      </button>\n",
              "      \n",
              "  <style>\n",
              "    .colab-df-container {\n",
              "      display:flex;\n",
              "      flex-wrap:wrap;\n",
              "      gap: 12px;\n",
              "    }\n",
              "\n",
              "    .colab-df-convert {\n",
              "      background-color: #E8F0FE;\n",
              "      border: none;\n",
              "      border-radius: 50%;\n",
              "      cursor: pointer;\n",
              "      display: none;\n",
              "      fill: #1967D2;\n",
              "      height: 32px;\n",
              "      padding: 0 0 0 0;\n",
              "      width: 32px;\n",
              "    }\n",
              "\n",
              "    .colab-df-convert:hover {\n",
              "      background-color: #E2EBFA;\n",
              "      box-shadow: 0px 1px 2px rgba(60, 64, 67, 0.3), 0px 1px 3px 1px rgba(60, 64, 67, 0.15);\n",
              "      fill: #174EA6;\n",
              "    }\n",
              "\n",
              "    [theme=dark] .colab-df-convert {\n",
              "      background-color: #3B4455;\n",
              "      fill: #D2E3FC;\n",
              "    }\n",
              "\n",
              "    [theme=dark] .colab-df-convert:hover {\n",
              "      background-color: #434B5C;\n",
              "      box-shadow: 0px 1px 3px 1px rgba(0, 0, 0, 0.15);\n",
              "      filter: drop-shadow(0px 1px 2px rgba(0, 0, 0, 0.3));\n",
              "      fill: #FFFFFF;\n",
              "    }\n",
              "  </style>\n",
              "\n",
              "      <script>\n",
              "        const buttonEl =\n",
              "          document.querySelector('#df-69583152-101b-4287-9484-c6166ba39774 button.colab-df-convert');\n",
              "        buttonEl.style.display =\n",
              "          google.colab.kernel.accessAllowed ? 'block' : 'none';\n",
              "\n",
              "        async function convertToInteractive(key) {\n",
              "          const element = document.querySelector('#df-69583152-101b-4287-9484-c6166ba39774');\n",
              "          const dataTable =\n",
              "            await google.colab.kernel.invokeFunction('convertToInteractive',\n",
              "                                                     [key], {});\n",
              "          if (!dataTable) return;\n",
              "\n",
              "          const docLinkHtml = 'Like what you see? Visit the ' +\n",
              "            '<a target=\"_blank\" href=https://colab.research.google.com/notebooks/data_table.ipynb>data table notebook</a>'\n",
              "            + ' to learn more about interactive tables.';\n",
              "          element.innerHTML = '';\n",
              "          dataTable['output_type'] = 'display_data';\n",
              "          await google.colab.output.renderOutput(dataTable, element);\n",
              "          const docLink = document.createElement('div');\n",
              "          docLink.innerHTML = docLinkHtml;\n",
              "          element.appendChild(docLink);\n",
              "        }\n",
              "      </script>\n",
              "    </div>\n",
              "  </div>\n",
              "  "
            ]
          },
          "metadata": {},
          "execution_count": 7
        }
      ]
    },
    {
      "cell_type": "markdown",
      "source": [
        "# Correlações entre as Notas do Ideb com variáveis do Censo"
      ],
      "metadata": {
        "id": "M85Jwl9Pa40z"
      }
    },
    {
      "cell_type": "code",
      "source": [
        "#Exibindo as correlações absolutas mais significantes\n",
        "compare_cols = dm[df_stats.T.columns]\n",
        "df = pd.DataFrame(data=dm)               \n",
        "def calc_corr(df, compare_cols, col='VL_OBSERVADO_2019'):\n",
        "  list_of_dfs = []\n",
        "  for compare_col in compare_cols:\n",
        "    tmp = pd.DataFrame({\n",
        "      'corr': df[col].corr(df[compare_col]),\n",
        "      'corr_abs':abs(df[col].corr(df[compare_col]))}, index = [compare_col])\n",
        "    if abs(df[col].corr(df[compare_col])) > 0.10:\n",
        "     list_of_dfs.append(tmp)\n",
        "  df_corr = pd.concat(list_of_dfs)\n",
        "  return df_corr\n",
        "\n",
        "df_corr = calc_corr(df, compare_cols)\n",
        "df_corr.sort_values(['corr_abs'], ascending=False)"
      ],
      "metadata": {
        "colab": {
          "base_uri": "https://localhost:8080/",
          "height": 771
        },
        "id": "33oOAQDBG1PB",
        "outputId": "9621bbe5-167a-4a78-be7f-647f8f3c02fe"
      },
      "execution_count": null,
      "outputs": [
        {
          "output_type": "execute_result",
          "data": {
            "text/plain": [
              "                                    corr  corr_abs\n",
              "IN_NOTURNO                     -0.264205  0.264205\n",
              "IN_LABORATORIO_CIENCIAS         0.229694  0.229694\n",
              "IN_PROF_PEDAGOGIA               0.227613  0.227613\n",
              "IN_EJA                         -0.223625  0.223625\n",
              "IN_QUADRA_ESPORTES_COBERTA      0.197666  0.197666\n",
              "IN_EJA_MED                     -0.190838  0.190838\n",
              "IN_PROF_TEC                     0.187923  0.187923\n",
              "IN_PROF                         0.177328  0.177328\n",
              "IN_PROF_BIBLIOTECARIO           0.171749  0.171749\n",
              "IN_LABORATORIO_INFORMATICA      0.168038  0.168038\n",
              "IN_QUADRA_ESPORTES              0.168010  0.168010\n",
              "IN_REFEITORIO                   0.157515  0.157515\n",
              "IN_AUDITORIO                    0.154952  0.154952\n",
              "IN_FUND                        -0.139884  0.139884\n",
              "IN_EJA_FUND                    -0.139601  0.139601\n",
              "IN_EQUIP_IMPRESSORA             0.135257  0.135257\n",
              "IN_ACES_INTERNET_DISP_PESSOAIS  0.134343  0.134343\n",
              "IN_FUND_AF                     -0.128544  0.128544\n",
              "IN_PROF_SECRETARIO             -0.127325  0.127325\n",
              "IN_PROF_COORDENADOR             0.125753  0.125753\n",
              "IN_BIBLIOTECA                   0.124073  0.124073\n",
              "IN_BIBLIOTECA_SALA_LEITURA      0.123821  0.123821\n",
              "IN_PROF_MONITORES               0.119018  0.119018"
            ],
            "text/html": [
              "\n",
              "  <div id=\"df-6f3076d4-17d3-48ef-9c9a-3aa86ce13f95\">\n",
              "    <div class=\"colab-df-container\">\n",
              "      <div>\n",
              "<style scoped>\n",
              "    .dataframe tbody tr th:only-of-type {\n",
              "        vertical-align: middle;\n",
              "    }\n",
              "\n",
              "    .dataframe tbody tr th {\n",
              "        vertical-align: top;\n",
              "    }\n",
              "\n",
              "    .dataframe thead th {\n",
              "        text-align: right;\n",
              "    }\n",
              "</style>\n",
              "<table border=\"1\" class=\"dataframe\">\n",
              "  <thead>\n",
              "    <tr style=\"text-align: right;\">\n",
              "      <th></th>\n",
              "      <th>corr</th>\n",
              "      <th>corr_abs</th>\n",
              "    </tr>\n",
              "  </thead>\n",
              "  <tbody>\n",
              "    <tr>\n",
              "      <th>IN_NOTURNO</th>\n",
              "      <td>-0.264205</td>\n",
              "      <td>0.264205</td>\n",
              "    </tr>\n",
              "    <tr>\n",
              "      <th>IN_LABORATORIO_CIENCIAS</th>\n",
              "      <td>0.229694</td>\n",
              "      <td>0.229694</td>\n",
              "    </tr>\n",
              "    <tr>\n",
              "      <th>IN_PROF_PEDAGOGIA</th>\n",
              "      <td>0.227613</td>\n",
              "      <td>0.227613</td>\n",
              "    </tr>\n",
              "    <tr>\n",
              "      <th>IN_EJA</th>\n",
              "      <td>-0.223625</td>\n",
              "      <td>0.223625</td>\n",
              "    </tr>\n",
              "    <tr>\n",
              "      <th>IN_QUADRA_ESPORTES_COBERTA</th>\n",
              "      <td>0.197666</td>\n",
              "      <td>0.197666</td>\n",
              "    </tr>\n",
              "    <tr>\n",
              "      <th>IN_EJA_MED</th>\n",
              "      <td>-0.190838</td>\n",
              "      <td>0.190838</td>\n",
              "    </tr>\n",
              "    <tr>\n",
              "      <th>IN_PROF_TEC</th>\n",
              "      <td>0.187923</td>\n",
              "      <td>0.187923</td>\n",
              "    </tr>\n",
              "    <tr>\n",
              "      <th>IN_PROF</th>\n",
              "      <td>0.177328</td>\n",
              "      <td>0.177328</td>\n",
              "    </tr>\n",
              "    <tr>\n",
              "      <th>IN_PROF_BIBLIOTECARIO</th>\n",
              "      <td>0.171749</td>\n",
              "      <td>0.171749</td>\n",
              "    </tr>\n",
              "    <tr>\n",
              "      <th>IN_LABORATORIO_INFORMATICA</th>\n",
              "      <td>0.168038</td>\n",
              "      <td>0.168038</td>\n",
              "    </tr>\n",
              "    <tr>\n",
              "      <th>IN_QUADRA_ESPORTES</th>\n",
              "      <td>0.168010</td>\n",
              "      <td>0.168010</td>\n",
              "    </tr>\n",
              "    <tr>\n",
              "      <th>IN_REFEITORIO</th>\n",
              "      <td>0.157515</td>\n",
              "      <td>0.157515</td>\n",
              "    </tr>\n",
              "    <tr>\n",
              "      <th>IN_AUDITORIO</th>\n",
              "      <td>0.154952</td>\n",
              "      <td>0.154952</td>\n",
              "    </tr>\n",
              "    <tr>\n",
              "      <th>IN_FUND</th>\n",
              "      <td>-0.139884</td>\n",
              "      <td>0.139884</td>\n",
              "    </tr>\n",
              "    <tr>\n",
              "      <th>IN_EJA_FUND</th>\n",
              "      <td>-0.139601</td>\n",
              "      <td>0.139601</td>\n",
              "    </tr>\n",
              "    <tr>\n",
              "      <th>IN_EQUIP_IMPRESSORA</th>\n",
              "      <td>0.135257</td>\n",
              "      <td>0.135257</td>\n",
              "    </tr>\n",
              "    <tr>\n",
              "      <th>IN_ACES_INTERNET_DISP_PESSOAIS</th>\n",
              "      <td>0.134343</td>\n",
              "      <td>0.134343</td>\n",
              "    </tr>\n",
              "    <tr>\n",
              "      <th>IN_FUND_AF</th>\n",
              "      <td>-0.128544</td>\n",
              "      <td>0.128544</td>\n",
              "    </tr>\n",
              "    <tr>\n",
              "      <th>IN_PROF_SECRETARIO</th>\n",
              "      <td>-0.127325</td>\n",
              "      <td>0.127325</td>\n",
              "    </tr>\n",
              "    <tr>\n",
              "      <th>IN_PROF_COORDENADOR</th>\n",
              "      <td>0.125753</td>\n",
              "      <td>0.125753</td>\n",
              "    </tr>\n",
              "    <tr>\n",
              "      <th>IN_BIBLIOTECA</th>\n",
              "      <td>0.124073</td>\n",
              "      <td>0.124073</td>\n",
              "    </tr>\n",
              "    <tr>\n",
              "      <th>IN_BIBLIOTECA_SALA_LEITURA</th>\n",
              "      <td>0.123821</td>\n",
              "      <td>0.123821</td>\n",
              "    </tr>\n",
              "    <tr>\n",
              "      <th>IN_PROF_MONITORES</th>\n",
              "      <td>0.119018</td>\n",
              "      <td>0.119018</td>\n",
              "    </tr>\n",
              "  </tbody>\n",
              "</table>\n",
              "</div>\n",
              "      <button class=\"colab-df-convert\" onclick=\"convertToInteractive('df-6f3076d4-17d3-48ef-9c9a-3aa86ce13f95')\"\n",
              "              title=\"Convert this dataframe to an interactive table.\"\n",
              "              style=\"display:none;\">\n",
              "        \n",
              "  <svg xmlns=\"http://www.w3.org/2000/svg\" height=\"24px\"viewBox=\"0 0 24 24\"\n",
              "       width=\"24px\">\n",
              "    <path d=\"M0 0h24v24H0V0z\" fill=\"none\"/>\n",
              "    <path d=\"M18.56 5.44l.94 2.06.94-2.06 2.06-.94-2.06-.94-.94-2.06-.94 2.06-2.06.94zm-11 1L8.5 8.5l.94-2.06 2.06-.94-2.06-.94L8.5 2.5l-.94 2.06-2.06.94zm10 10l.94 2.06.94-2.06 2.06-.94-2.06-.94-.94-2.06-.94 2.06-2.06.94z\"/><path d=\"M17.41 7.96l-1.37-1.37c-.4-.4-.92-.59-1.43-.59-.52 0-1.04.2-1.43.59L10.3 9.45l-7.72 7.72c-.78.78-.78 2.05 0 2.83L4 21.41c.39.39.9.59 1.41.59.51 0 1.02-.2 1.41-.59l7.78-7.78 2.81-2.81c.8-.78.8-2.07 0-2.86zM5.41 20L4 18.59l7.72-7.72 1.47 1.35L5.41 20z\"/>\n",
              "  </svg>\n",
              "      </button>\n",
              "      \n",
              "  <style>\n",
              "    .colab-df-container {\n",
              "      display:flex;\n",
              "      flex-wrap:wrap;\n",
              "      gap: 12px;\n",
              "    }\n",
              "\n",
              "    .colab-df-convert {\n",
              "      background-color: #E8F0FE;\n",
              "      border: none;\n",
              "      border-radius: 50%;\n",
              "      cursor: pointer;\n",
              "      display: none;\n",
              "      fill: #1967D2;\n",
              "      height: 32px;\n",
              "      padding: 0 0 0 0;\n",
              "      width: 32px;\n",
              "    }\n",
              "\n",
              "    .colab-df-convert:hover {\n",
              "      background-color: #E2EBFA;\n",
              "      box-shadow: 0px 1px 2px rgba(60, 64, 67, 0.3), 0px 1px 3px 1px rgba(60, 64, 67, 0.15);\n",
              "      fill: #174EA6;\n",
              "    }\n",
              "\n",
              "    [theme=dark] .colab-df-convert {\n",
              "      background-color: #3B4455;\n",
              "      fill: #D2E3FC;\n",
              "    }\n",
              "\n",
              "    [theme=dark] .colab-df-convert:hover {\n",
              "      background-color: #434B5C;\n",
              "      box-shadow: 0px 1px 3px 1px rgba(0, 0, 0, 0.15);\n",
              "      filter: drop-shadow(0px 1px 2px rgba(0, 0, 0, 0.3));\n",
              "      fill: #FFFFFF;\n",
              "    }\n",
              "  </style>\n",
              "\n",
              "      <script>\n",
              "        const buttonEl =\n",
              "          document.querySelector('#df-6f3076d4-17d3-48ef-9c9a-3aa86ce13f95 button.colab-df-convert');\n",
              "        buttonEl.style.display =\n",
              "          google.colab.kernel.accessAllowed ? 'block' : 'none';\n",
              "\n",
              "        async function convertToInteractive(key) {\n",
              "          const element = document.querySelector('#df-6f3076d4-17d3-48ef-9c9a-3aa86ce13f95');\n",
              "          const dataTable =\n",
              "            await google.colab.kernel.invokeFunction('convertToInteractive',\n",
              "                                                     [key], {});\n",
              "          if (!dataTable) return;\n",
              "\n",
              "          const docLinkHtml = 'Like what you see? Visit the ' +\n",
              "            '<a target=\"_blank\" href=https://colab.research.google.com/notebooks/data_table.ipynb>data table notebook</a>'\n",
              "            + ' to learn more about interactive tables.';\n",
              "          element.innerHTML = '';\n",
              "          dataTable['output_type'] = 'display_data';\n",
              "          await google.colab.output.renderOutput(dataTable, element);\n",
              "          const docLink = document.createElement('div');\n",
              "          docLink.innerHTML = docLinkHtml;\n",
              "          element.appendChild(docLink);\n",
              "        }\n",
              "      </script>\n",
              "    </div>\n",
              "  </div>\n",
              "  "
            ]
          },
          "metadata": {},
          "execution_count": 8
        }
      ]
    },
    {
      "cell_type": "markdown",
      "source": [
        "# Detectando as variáveis que possuem multicolinearidade"
      ],
      "metadata": {
        "id": "CvoMtrcZqrE1"
      }
    },
    {
      "cell_type": "code",
      "source": [
        "# VIF dataframe (Detecting multicollinearity)\n",
        "vif_data = pd.DataFrame()\n",
        "filter_col_corr = [col for col in df_corr.T]\n",
        "data_multicollinearity = dm[filter_col_corr]\n",
        "\n",
        "# VIF dataframe\n",
        "vif_data = pd.DataFrame()\n",
        "vif_data[\"feature\"] = data_multicollinearity.columns\n",
        "\n",
        "  \n",
        "# calculating VIF for each feature\n",
        "vif_data[\"VIF\"] = [variance_inflation_factor(data_multicollinearity.values, i)\n",
        "                   for i in range(len(data_multicollinearity.columns))]\n",
        "                          \n",
        "print(vif_data)"
      ],
      "metadata": {
        "colab": {
          "base_uri": "https://localhost:8080/"
        },
        "id": "bZ50GJKQmMvn",
        "outputId": "5492f042-245b-40b2-e585-c4e76aaa153a"
      },
      "execution_count": null,
      "outputs": [
        {
          "output_type": "stream",
          "name": "stdout",
          "text": [
            "                           feature        VIF\n",
            "0                     IN_AUDITORIO   1.654867\n",
            "1                    IN_BIBLIOTECA  25.432434\n",
            "2       IN_BIBLIOTECA_SALA_LEITURA  27.356921\n",
            "3          IN_LABORATORIO_CIENCIAS   2.613937\n",
            "4       IN_LABORATORIO_INFORMATICA   6.885575\n",
            "5               IN_QUADRA_ESPORTES   5.646881\n",
            "6       IN_QUADRA_ESPORTES_COBERTA   4.284071\n",
            "7                    IN_REFEITORIO   1.989037\n",
            "8              IN_EQUIP_IMPRESSORA   2.674110\n",
            "9   IN_ACES_INTERNET_DISP_PESSOAIS   1.498897\n",
            "10           IN_PROF_BIBLIOTECARIO   3.415287\n",
            "11             IN_PROF_COORDENADOR   1.474453\n",
            "12               IN_PROF_PEDAGOGIA   3.120377\n",
            "13              IN_PROF_SECRETARIO   7.363944\n",
            "14               IN_PROF_MONITORES   1.833197\n",
            "15                      IN_NOTURNO  12.098258\n",
            "16                         IN_FUND  87.816502\n",
            "17                      IN_FUND_AF  84.171069\n",
            "18                         IN_PROF  10.066451\n",
            "19                     IN_PROF_TEC  10.013104\n",
            "20                          IN_EJA  52.009908\n",
            "21                     IN_EJA_FUND   2.434637\n",
            "22                      IN_EJA_MED  43.654637\n"
          ]
        }
      ]
    },
    {
      "cell_type": "markdown",
      "source": [
        "## Analisando algumas variáveis mais a fundo"
      ],
      "metadata": {
        "id": "sCL6VNQpyUlF"
      }
    },
    {
      "cell_type": "markdown",
      "source": [
        "### IN_FUND"
      ],
      "metadata": {
        "id": "hLZBCNDeasbS"
      }
    },
    {
      "cell_type": "code",
      "source": [
        "dm_corr = dm[df_stats.T.columns].corr()\n",
        "dm_corr['IN_FUND'].abs().sort_values(ascending=False).head(10)"
      ],
      "metadata": {
        "colab": {
          "base_uri": "https://localhost:8080/"
        },
        "id": "Dp2wtgbIavKc",
        "outputId": "794ae610-4b68-4d7d-880a-b66db00982a2"
      },
      "execution_count": null,
      "outputs": [
        {
          "output_type": "execute_result",
          "data": {
            "text/plain": [
              "IN_FUND                           1.000000\n",
              "IN_FUND_AF                        0.986433\n",
              "IN_EJA_FUND                       0.433730\n",
              "IN_EJA                            0.272910\n",
              "IN_EJA_MED                        0.219393\n",
              "IN_NOTURNO                        0.218244\n",
              "IN_PROF                           0.185570\n",
              "IN_PROF_TEC                       0.176900\n",
              "IN_ACES_INTERNET_DISP_PESSOAIS    0.141588\n",
              "IN_EQUIP_IMPRESSORA               0.125643\n",
              "Name: IN_FUND, dtype: float64"
            ]
          },
          "metadata": {},
          "execution_count": 12
        }
      ]
    },
    {
      "cell_type": "markdown",
      "source": [
        "### IN_BIBLIOTECA"
      ],
      "metadata": {
        "id": "qmp8MDnjazEt"
      }
    },
    {
      "cell_type": "code",
      "source": [
        "dm_corr = dm[df_stats.T.columns].corr()\n",
        "dm_corr['IN_BIBLIOTECA'].abs().sort_values(ascending=False).head(10)"
      ],
      "metadata": {
        "colab": {
          "base_uri": "https://localhost:8080/"
        },
        "id": "ONG4pjFmctFh",
        "outputId": "cbb3e9b8-f89a-4932-a202-365fa823e4d7"
      },
      "execution_count": null,
      "outputs": [
        {
          "output_type": "execute_result",
          "data": {
            "text/plain": [
              "IN_BIBLIOTECA                 1.000000\n",
              "IN_BIBLIOTECA_SALA_LEITURA    0.881494\n",
              "IN_PROF_BIBLIOTECARIO         0.425220\n",
              "IN_LABORATORIO_CIENCIAS       0.309771\n",
              "IN_QUADRA_ESPORTES            0.262358\n",
              "IN_LABORATORIO_INFORMATICA    0.224666\n",
              "IN_AUDITORIO                  0.215566\n",
              "IN_QUADRA_ESPORTES_COBERTA    0.202338\n",
              "IN_REFEITORIO                 0.200878\n",
              "IN_PROF_MONITORES             0.165106\n",
              "Name: IN_BIBLIOTECA, dtype: float64"
            ]
          },
          "metadata": {},
          "execution_count": 13
        }
      ]
    },
    {
      "cell_type": "markdown",
      "source": [
        "### IN_NOTURNO"
      ],
      "metadata": {
        "id": "6mzm868LyZ3p"
      }
    },
    {
      "cell_type": "code",
      "source": [
        "dm_corr = dm[df_stats.T.columns].corr()\n",
        "dm_corr['IN_NOTURNO'].abs().sort_values(ascending=False).head(10)"
      ],
      "metadata": {
        "colab": {
          "base_uri": "https://localhost:8080/"
        },
        "id": "NpwBTzhAxvEW",
        "outputId": "97e6717c-6f00-4721-f83f-464aacbe5ff8"
      },
      "execution_count": null,
      "outputs": [
        {
          "output_type": "execute_result",
          "data": {
            "text/plain": [
              "IN_NOTURNO                    1.000000\n",
              "IN_EJA                        0.766035\n",
              "IN_EJA_MED                    0.761221\n",
              "IN_EJA_FUND                   0.286312\n",
              "IN_FUND_AF                    0.228132\n",
              "IN_FUND                       0.218244\n",
              "IN_QUADRA_ESPORTES_COBERTA    0.167495\n",
              "IN_QUADRA_ESPORTES            0.160852\n",
              "IN_PROF_TEC                   0.136427\n",
              "IN_AUDITORIO                  0.116345\n",
              "Name: IN_NOTURNO, dtype: float64"
            ]
          },
          "metadata": {},
          "execution_count": 12
        }
      ]
    },
    {
      "cell_type": "markdown",
      "source": [
        "### IN_PROF"
      ],
      "metadata": {
        "id": "BvjA_2zt1k1O"
      }
    },
    {
      "cell_type": "code",
      "source": [
        "dm_corr = dm[df_stats.T.columns].corr()\n",
        "dm_corr['IN_PROF'].abs().sort_values(ascending=False).head(10)"
      ],
      "metadata": {
        "colab": {
          "base_uri": "https://localhost:8080/"
        },
        "id": "GgdHXda7ydN7",
        "outputId": "d5d2790e-9446-4e37-e416-adc8ca1e6f7a"
      },
      "execution_count": null,
      "outputs": [
        {
          "output_type": "execute_result",
          "data": {
            "text/plain": [
              "IN_PROF                       1.000000\n",
              "IN_PROF_TEC                   0.931193\n",
              "IN_AUDITORIO                  0.259961\n",
              "IN_LABORATORIO_CIENCIAS       0.198531\n",
              "IN_FUND_AF                    0.196751\n",
              "IN_QUADRA_ESPORTES_COBERTA    0.187635\n",
              "IN_FUND                       0.185570\n",
              "IN_REFEITORIO                 0.169609\n",
              "IN_EJA                        0.169407\n",
              "IN_EJA_MED                    0.163119\n",
              "Name: IN_PROF, dtype: float64"
            ]
          },
          "metadata": {},
          "execution_count": 13
        }
      ]
    },
    {
      "cell_type": "markdown",
      "source": [
        "### IN_QUADRA_ESPORTES"
      ],
      "metadata": {
        "id": "o1ViFwil1nMZ"
      }
    },
    {
      "cell_type": "code",
      "source": [
        "dm_corr = dm[df_stats.T.columns].corr()\n",
        "dm_corr['IN_QUADRA_ESPORTES'].abs().sort_values(ascending=False).head(10)"
      ],
      "metadata": {
        "colab": {
          "base_uri": "https://localhost:8080/"
        },
        "id": "BTmHAyLfzAac",
        "outputId": "de1fa71b-e210-4200-fdb3-6019a9c0c776"
      },
      "execution_count": null,
      "outputs": [
        {
          "output_type": "execute_result",
          "data": {
            "text/plain": [
              "IN_QUADRA_ESPORTES            1.000000\n",
              "IN_QUADRA_ESPORTES_COBERTA    0.762826\n",
              "IN_BIBLIOTECA                 0.262358\n",
              "IN_PROF_BIBLIOTECARIO         0.261123\n",
              "IN_AUDITORIO                  0.258109\n",
              "IN_PROF_PEDAGOGIA             0.242207\n",
              "IN_LABORATORIO_CIENCIAS       0.235933\n",
              "IN_BIBLIOTECA_SALA_LEITURA    0.216569\n",
              "IN_PROF_MONITORES             0.195026\n",
              "IN_REFEITORIO                 0.177131\n",
              "Name: IN_QUADRA_ESPORTES, dtype: float64"
            ]
          },
          "metadata": {},
          "execution_count": 14
        }
      ]
    },
    {
      "cell_type": "markdown",
      "source": [
        "### IN_PROF_SECRETARIO"
      ],
      "metadata": {
        "id": "8ML6lwdI1qHR"
      }
    },
    {
      "cell_type": "code",
      "source": [
        "dm_corr = dm[df_stats.T.columns].corr()\n",
        "dm_corr['IN_PROF_SECRETARIO'].abs().sort_values(ascending=False).head(10)"
      ],
      "metadata": {
        "colab": {
          "base_uri": "https://localhost:8080/"
        },
        "id": "0DABv171zHJG",
        "outputId": "aae6e581-1cd7-47dd-ffe1-1011aaa72110"
      },
      "execution_count": null,
      "outputs": [
        {
          "output_type": "execute_result",
          "data": {
            "text/plain": [
              "IN_PROF_SECRETARIO            1.000000\n",
              "IN_PROF_BIBLIOTECARIO         0.227784\n",
              "IN_PROF_MONITORES             0.166617\n",
              "IN_BIBLIOTECA                 0.160812\n",
              "IN_BIBLIOTECA_SALA_LEITURA    0.158502\n",
              "IN_LABORATORIO_INFORMATICA    0.126981\n",
              "IN_REFEITORIO                 0.100101\n",
              "IN_EJA_MED                    0.082647\n",
              "IN_EJA                        0.079560\n",
              "IN_PROF                       0.078691\n",
              "Name: IN_PROF_SECRETARIO, dtype: float64"
            ]
          },
          "metadata": {},
          "execution_count": 15
        }
      ]
    },
    {
      "cell_type": "markdown",
      "source": [
        "### IN_LABORATORIO_INFORMATICA"
      ],
      "metadata": {
        "id": "BdDbPDdhAzIL"
      }
    },
    {
      "cell_type": "code",
      "source": [
        "dm_corr = dm[df_stats.T.columns].corr()\n",
        "dm_corr['IN_LABORATORIO_INFORMATICA'].abs().sort_values(ascending=False).head(10)"
      ],
      "metadata": {
        "colab": {
          "base_uri": "https://localhost:8080/"
        },
        "id": "wdwOTDDEAtA8",
        "outputId": "7c7a2626-b63a-4243-9a80-f817791c23a9"
      },
      "execution_count": null,
      "outputs": [
        {
          "output_type": "execute_result",
          "data": {
            "text/plain": [
              "IN_LABORATORIO_INFORMATICA    1.000000\n",
              "IN_LABORATORIO_CIENCIAS       0.236887\n",
              "IN_BIBLIOTECA                 0.224666\n",
              "IN_PROF_MONITORES             0.211015\n",
              "IN_BIBLIOTECA_SALA_LEITURA    0.181258\n",
              "IN_PROF_BIBLIOTECARIO         0.153782\n",
              "IN_PROF_SECRETARIO            0.126981\n",
              "IN_PROF_PEDAGOGIA             0.113526\n",
              "IN_REFEITORIO                 0.082133\n",
              "IN_PROF                       0.072758\n",
              "Name: IN_LABORATORIO_INFORMATICA, dtype: float64"
            ]
          },
          "metadata": {},
          "execution_count": 9
        }
      ]
    },
    {
      "cell_type": "markdown",
      "source": [
        "# Excluindo as variáveis que possuem multicolinearidade"
      ],
      "metadata": {
        "id": "17QOyVJZX4H0"
      }
    },
    {
      "cell_type": "code",
      "source": [
        "# Excluindo as features multicorrelacionadas\n",
        "vif_data.drop(vif_data[(vif_data['feature'] == 'IN_PROF_TEC') | (vif_data['feature'] == 'IN_QUADRA_ESPORTES')\n",
        "| (vif_data['feature'] == 'IN_FUND_AF') | (vif_data['feature'] == 'IN_BIBLIOTECA_SALA_LEITURA')\n",
        "| (vif_data['feature'] == 'IN_EJA') | (vif_data['feature'] == 'IN_EJA_MED')].index, inplace=True)"
      ],
      "metadata": {
        "id": "04x7YQt-zvQw"
      },
      "execution_count": null,
      "outputs": []
    },
    {
      "cell_type": "code",
      "source": [
        "# Separando as features filtradas no VIF para calcular o Intervalo de Confiança\n",
        "vif_data_corr = calc_corr(dm, vif_data.feature)\n",
        "print(vif_data_corr.sort_values('corr_abs', ascending=False))"
      ],
      "metadata": {
        "colab": {
          "base_uri": "https://localhost:8080/"
        },
        "id": "NXieApPn3hLH",
        "outputId": "2cd242ba-05c5-4fdf-9663-c9c6df6318a5"
      },
      "execution_count": null,
      "outputs": [
        {
          "output_type": "stream",
          "name": "stdout",
          "text": [
            "                                    corr  corr_abs\n",
            "IN_NOTURNO                     -0.264205  0.264205\n",
            "IN_LABORATORIO_CIENCIAS         0.229694  0.229694\n",
            "IN_PROF_PEDAGOGIA               0.227613  0.227613\n",
            "IN_QUADRA_ESPORTES_COBERTA      0.197666  0.197666\n",
            "IN_PROF                         0.177328  0.177328\n",
            "IN_PROF_BIBLIOTECARIO           0.171749  0.171749\n",
            "IN_LABORATORIO_INFORMATICA      0.168038  0.168038\n",
            "IN_REFEITORIO                   0.157515  0.157515\n",
            "IN_AUDITORIO                    0.154952  0.154952\n",
            "IN_FUND                        -0.139884  0.139884\n",
            "IN_EJA_FUND                    -0.139601  0.139601\n",
            "IN_EQUIP_IMPRESSORA             0.135257  0.135257\n",
            "IN_ACES_INTERNET_DISP_PESSOAIS  0.134343  0.134343\n",
            "IN_PROF_SECRETARIO             -0.127325  0.127325\n",
            "IN_PROF_COORDENADOR             0.125753  0.125753\n",
            "IN_BIBLIOTECA                   0.124073  0.124073\n",
            "IN_PROF_MONITORES               0.119018  0.119018\n"
          ]
        }
      ]
    },
    {
      "cell_type": "markdown",
      "source": [
        "# Intervalo de Confiança"
      ],
      "metadata": {
        "id": "1MY0FDNRSYTI"
      }
    },
    {
      "cell_type": "code",
      "source": [
        "#Calculando o intervalo de confiança\n",
        "confidence = 0.95\n",
        "mean = dm['VL_OBSERVADO_2019'].mean()\n",
        "count = len(dm)\n",
        "std_error = dm['VL_OBSERVADO_2019'].sem()\n",
        "\n",
        "ci = st.t.interval(confidence, count - 1, loc=mean, scale=std_error)"
      ],
      "metadata": {
        "id": "8wP6b5JEIGFl"
      },
      "execution_count": null,
      "outputs": []
    },
    {
      "cell_type": "code",
      "source": [
        "# Subplots dos intervalos de confiança das variáveis filtradas\n",
        "fig, axes = plt.subplots(3, 4, figsize=(20, 20), sharey=True)\n",
        "fig.suptitle('Intervalos de confiança das 10 maiores correlações (Desconsiderando multicolinearidade)')\n",
        "\n",
        "sns.pointplot(ax=axes[0,0], x=dm['IN_NOTURNO'], y=dm['VL_OBSERVADO_2019'], \n",
        "              errorbar = ('ci', confidence), join=False, capsize=.4)\n",
        "axes[0,0].set_title(dm['IN_NOTURNO'].name)\n",
        "\n",
        "sns.pointplot(ax=axes[0,1], x=dm['IN_LABORATORIO_CIENCIAS'], y=dm['VL_OBSERVADO_2019'], \n",
        "              errorbar = ('ci', confidence), join=False, capsize=.4)\n",
        "axes[0,1].set_title(dm['IN_LABORATORIO_CIENCIAS'].name)\n",
        "\n",
        "sns.pointplot(ax=axes[0,2], x=dm['IN_PROF_PEDAGOGIA'], y=dm['VL_OBSERVADO_2019'], \n",
        "              errorbar = ('ci', confidence), join=False, capsize=.4)\n",
        "axes[0,2].set_title(dm['IN_PROF_PEDAGOGIA'].name)\n",
        "\n",
        "sns.pointplot(ax=axes[0,3], x=dm['IN_QUADRA_ESPORTES_COBERTA'], y=dm['VL_OBSERVADO_2019'], \n",
        "              errorbar = ('ci', confidence), join=False, capsize=.4)\n",
        "axes[0,3].set_title(dm['IN_QUADRA_ESPORTES_COBERTA'].name)\n",
        "\n",
        "sns.pointplot(ax=axes[1,0], x=dm['IN_PROF'], y=dm['VL_OBSERVADO_2019'], \n",
        "              errorbar = ('ci', confidence), join=False, capsize=.4)\n",
        "axes[1,0].set_title(dm['IN_PROF'].name)\n",
        "\n",
        "sns.pointplot(ax=axes[1,1], x=dm['IN_PROF_BIBLIOTECARIO'], y=dm['VL_OBSERVADO_2019'], \n",
        "              errorbar = ('ci', confidence), join=False, capsize=.4)\n",
        "axes[1,1].set_title(dm['IN_PROF_BIBLIOTECARIO'].name)\n",
        "\n",
        "sns.pointplot(ax=axes[1,2], x=dm['IN_LABORATORIO_INFORMATICA'], y=dm['VL_OBSERVADO_2019'], \n",
        "              errorbar = ('ci', confidence), join=False, capsize=.4)\n",
        "axes[1,2].set_title(dm['IN_LABORATORIO_INFORMATICA'].name)\n",
        "\n",
        "sns.pointplot(ax=axes[1,3], x=dm['IN_REFEITORIO'], y=dm['VL_OBSERVADO_2019'], \n",
        "              errorbar = ('ci', confidence), join=False, capsize=.4)\n",
        "axes[1,3].set_title(dm['IN_REFEITORIO'].name)\n",
        "\n",
        "sns.pointplot(ax=axes[2,0], x=dm['IN_AUDITORIO'], y=dm['VL_OBSERVADO_2019'], \n",
        "              errorbar = ('ci', confidence), join=False, capsize=.4)\n",
        "axes[2,0].set_title(dm['IN_AUDITORIO'].name)\n",
        "\n",
        "sns.pointplot(ax=axes[2,1], x=dm['IN_EJA_FUND'], y=dm['VL_OBSERVADO_2019'], \n",
        "              errorbar = ('ci', confidence), join=False, capsize=.4)\n",
        "axes[2,1].set_title(dm['IN_EJA_FUND'].name)\n",
        "\n",
        "sns.pointplot(ax=axes[2,2], x=dm['IN_EQUIP_IMPRESSORA'], y=dm['VL_OBSERVADO_2019'], \n",
        "              errorbar = ('ci', confidence), join=False, capsize=.4)\n",
        "axes[2,2].set_title(dm['IN_EQUIP_IMPRESSORA'].name)\n",
        "\n",
        "sns.pointplot(ax=axes[2,3], x=dm['IN_ACES_INTERNET_DISP_PESSOAIS'], y=dm['VL_OBSERVADO_2019'], \n",
        "              errorbar = ('ci', confidence), join=False, capsize=.4)\n",
        "axes[2,3].set_title(dm['IN_ACES_INTERNET_DISP_PESSOAIS'].name)"
      ],
      "metadata": {
        "colab": {
          "base_uri": "https://localhost:8080/",
          "height": 1000
        },
        "id": "Blb-KGT98r1A",
        "outputId": "67aa9f18-1a58-4ca0-b5fa-e04dbb60295d"
      },
      "execution_count": null,
      "outputs": [
        {
          "output_type": "execute_result",
          "data": {
            "text/plain": [
              "Text(0.5, 1.0, 'IN_ACES_INTERNET_DISP_PESSOAIS')"
            ]
          },
          "metadata": {},
          "execution_count": 13
        },
        {
          "output_type": "display_data",
          "data": {
            "text/plain": [
              "<Figure size 1440x1440 with 12 Axes>"
            ],
            "image/png": "[encoded data removed]"
          },
          "metadata": {}
        }
      ]
    },
    {
      "cell_type": "markdown",
      "source": [
        "# Regressão Linear"
      ],
      "metadata": {
        "id": "SjXZhrVJx-sx"
      }
    },
    {
      "cell_type": "markdown",
      "source": [
        "## Para todas as variáveis binárias do Censo, filtrar as que estão dentro da proporção"
      ],
      "metadata": {
        "id": "mZOd38cx7ThV"
      }
    },
    {
      "cell_type": "code",
      "source": [
        "# Função para filtrar as variáveis do Censo dentro da proporção aceitada:\n",
        "# colunas com valores 0 ou 1 maiores que 10% e menores que 90% do total de dados da coluna\n",
        "compare_cols = dm.columns\n",
        "df = pd.DataFrame(data=dm)               \n",
        "def rfe_features(df, compare_cols, col='VL_OBSERVADO_2019'):\n",
        "  list_of_dfs = []\n",
        "  for compare_col in compare_cols:\n",
        "    v0 = df[df[compare_col] == 0][col]\n",
        "    v1 = df[df[compare_col] == 1][col]\n",
        "    n = len(v0.index) + len(v1.index)\n",
        "    prop_v1 = 0 if n == 0 else len(v1.index) / n\n",
        "    tmp = pd.DataFrame({\n",
        "      'columns': compare_col}, index=[compare_col])\n",
        "    if 0.10 < prop_v1 < 0.90:\n",
        "     list_of_dfs.append(tmp)\n",
        "  df_features = pd.concat(list_of_dfs)\n",
        "  return df_features\n",
        "df_features = rfe_features(df, compare_cols)\n",
        "df_transpose = df_features.T\n",
        "filter_col = [col for col in df_transpose if col.startswith('IN')]"
      ],
      "metadata": {
        "id": "v5MEF-nLGN_a"
      },
      "execution_count": null,
      "outputs": []
    },
    {
      "cell_type": "code",
      "source": [
        "# Selecinando os dados para verificar a regressão em relação a nota do IDEB\n",
        "X = dm[filter_col]\n",
        "y = dm['VL_OBSERVADO_2019']"
      ],
      "metadata": {
        "id": "QqE3u_Xv2Xb_"
      },
      "execution_count": null,
      "outputs": []
    },
    {
      "cell_type": "code",
      "source": [
        "# Criando o modelo de regressão linear\n",
        "regression_all = lm.LinearRegression()\n",
        "estimator = regression_all"
      ],
      "metadata": {
        "id": "5TYdt7jXsadK"
      },
      "execution_count": null,
      "outputs": []
    },
    {
      "cell_type": "code",
      "source": [
        "# Executando o RFE para todas as colunas em X\n",
        "scores = []\n",
        "n_features_lst = range(1, len(X.columns))\n",
        "for n_features in n_features_lst:\n",
        "  selector = RFE(estimator, n_features_to_select=n_features, step=1)\n",
        "  selector = selector.fit(X, y)\n",
        "  filter = selector.support_\n",
        "  scores.append(selector.score(X, y))\n",
        "  \n",
        "\n",
        "plt.plot(n_features_lst, scores, color='red')\n",
        "plt.xlabel(\"N features\")\n",
        "plt.ylabel(\"R2\")\n",
        "plt.ylim([0, 0.4])\n",
        "plt.xlim([0, 50])\n",
        "plt.title(\"Regressão Linear\")"
      ],
      "metadata": {
        "colab": {
          "base_uri": "https://localhost:8080/",
          "height": 393
        },
        "id": "7zF_8DZcsbVo",
        "outputId": "3f033787-d768-44a7-9a1b-44f7f308d713"
      },
      "execution_count": null,
      "outputs": [
        {
          "output_type": "execute_result",
          "data": {
            "text/plain": [
              "Text(0.5, 1.0, 'Regressão Linear')"
            ]
          },
          "metadata": {},
          "execution_count": 17
        },
        {
          "output_type": "display_data",
          "data": {
            "text/plain": [
              "<Figure size 576x396 with 1 Axes>"
            ],
            "image/png": "[encoded data removed]"
          },
          "metadata": {}
        }
      ]
    },
    {
      "cell_type": "markdown",
      "source": [
        "## Para as variáveis filtradas desde o teste-t até a multicolinearidade"
      ],
      "metadata": {
        "id": "s9j1mDrf_cSf"
      }
    },
    {
      "cell_type": "code",
      "source": [
        "# Executando o RFE para as variáveis filtradas desde o teste-t até a multicolinearidade\n",
        "X_filter = X[vif_data.feature]\n",
        "selector_filter = RFE(estimator, n_features_to_select=len(X_filter), step=1)\n",
        "selector_filter = selector_filter.fit(X_filter, y)\n",
        "filter = selector_filter.support_\n",
        "ranking = selector_filter.ranking_\n",
        "print(filter)\n",
        "print(ranking)"
      ],
      "metadata": {
        "colab": {
          "base_uri": "https://localhost:8080/"
        },
        "id": "QrYvjvZKp8bd",
        "outputId": "ea467023-a293-4e3b-945c-d967076741ae"
      },
      "execution_count": null,
      "outputs": [
        {
          "output_type": "stream",
          "name": "stdout",
          "text": [
            "[ True  True  True  True  True  True  True  True  True  True  True  True\n",
            "  True  True  True  True  True]\n",
            "[1 1 1 1 1 1 1 1 1 1 1 1 1 1 1 1 1]\n"
          ]
        }
      ]
    },
    {
      "cell_type": "code",
      "source": [
        "# Exibindo as colunas com melhores resultados no RFE das variáveis filtradas\n",
        "features = array(X_filter.columns)\n",
        "print(features[filter])"
      ],
      "metadata": {
        "colab": {
          "base_uri": "https://localhost:8080/"
        },
        "id": "gk_VtHVaO8f-",
        "outputId": "bc94a16f-7279-443d-c1b1-560f691faa7d"
      },
      "execution_count": null,
      "outputs": [
        {
          "output_type": "stream",
          "name": "stdout",
          "text": [
            "['IN_AUDITORIO' 'IN_BIBLIOTECA' 'IN_LABORATORIO_CIENCIAS'\n",
            " 'IN_LABORATORIO_INFORMATICA' 'IN_QUADRA_ESPORTES_COBERTA' 'IN_REFEITORIO'\n",
            " 'IN_EQUIP_IMPRESSORA' 'IN_ACES_INTERNET_DISP_PESSOAIS'\n",
            " 'IN_PROF_BIBLIOTECARIO' 'IN_PROF_COORDENADOR' 'IN_PROF_PEDAGOGIA'\n",
            " 'IN_PROF_SECRETARIO' 'IN_PROF_MONITORES' 'IN_NOTURNO' 'IN_FUND' 'IN_PROF'\n",
            " 'IN_EJA_FUND']\n"
          ]
        }
      ]
    },
    {
      "cell_type": "code",
      "source": [
        "# Visualizando o rank das variáveis filtradas com Rank2D\n",
        "features_rank = dm[X_filter.columns]\n",
        "visualizer = Rank2D(algorithm='pearson')\n",
        "visualizer.fit(features_rank, y)           # Fit the data to the visualizer\n",
        "visualizer.transform(features_rank)        # Transform the data\n",
        "visualizer.show()"
      ],
      "metadata": {
        "colab": {
          "base_uri": "https://localhost:8080/",
          "height": 553
        },
        "id": "KdYhxZku_vKT",
        "outputId": "10199a2a-2b33-4839-dc15-05a029245f42"
      },
      "execution_count": null,
      "outputs": [
        {
          "output_type": "display_data",
          "data": {
            "text/plain": [
              "<Figure size 576x396 with 2 Axes>"
            ],
            "image/png": "[encoded data removed]"
          },
          "metadata": {}
        },
        {
          "output_type": "execute_result",
          "data": {
            "text/plain": [
              "<matplotlib.axes._subplots.AxesSubplot at 0x7f666fb5ed00>"
            ]
          },
          "metadata": {},
          "execution_count": 20
        }
      ]
    },
    {
      "cell_type": "code",
      "source": [
        "# Exibindo o R2 calculado para as variáveis filtradas\n",
        "score = selector_filter.score(X_filter, y)\n",
        "print(score)"
      ],
      "metadata": {
        "colab": {
          "base_uri": "https://localhost:8080/"
        },
        "id": "63QxV9Hc3v1Y",
        "outputId": "3eb707e2-ca26-40db-c411-3d0878369776"
      },
      "execution_count": null,
      "outputs": [
        {
          "output_type": "stream",
          "name": "stdout",
          "text": [
            "0.2265133969346228\n"
          ]
        }
      ]
    },
    {
      "cell_type": "markdown",
      "source": [
        "# Utilizando o OLS (Ordinary Least Squares) para a Regressão Linear"
      ],
      "metadata": {
        "id": "EuqqF3xvA79s"
      }
    },
    {
      "cell_type": "markdown",
      "source": [
        "## Para todas as variáveis binárias do Censo, filtrar as que estão dentro da proporção"
      ],
      "metadata": {
        "id": "RY2PAKf2Bq_J"
      }
    },
    {
      "cell_type": "code",
      "source": [
        "#Utilizando o stat models para gerar as métricas\n",
        "x = sm.add_constant(X)\n",
        "results = sm.OLS(y, x).fit()\n",
        "print(results.summary())"
      ],
      "metadata": {
        "colab": {
          "base_uri": "https://localhost:8080/"
        },
        "id": "Ra0dLju3wftF",
        "outputId": "6f3cb9f6-7157-4856-e847-faae44469be9"
      },
      "execution_count": null,
      "outputs": [
        {
          "output_type": "stream",
          "name": "stdout",
          "text": [
            "                            OLS Regression Results                            \n",
            "==============================================================================\n",
            "Dep. Variable:      VL_OBSERVADO_2019   R-squared:                       0.366\n",
            "Model:                            OLS   Adj. R-squared:                  0.143\n",
            "Method:                 Least Squares   F-statistic:                     1.639\n",
            "Date:                Wed, 14 Dec 2022   Prob (F-statistic):            0.00306\n",
            "Time:                        19:11:27   Log-Likelihood:                -241.24\n",
            "No. Observations:                 293   AIC:                             636.5\n",
            "Df Residuals:                     216   BIC:                             919.8\n",
            "Df Model:                          76                                         \n",
            "Covariance Type:            nonrobust                                         \n",
            "==================================================================================================\n",
            "                                     coef    std err          t      P>|t|      [0.025      0.975]\n",
            "--------------------------------------------------------------------------------------------------\n",
            "const                              4.1208      0.403     10.235      0.000       3.327       4.914\n",
            "IN_AGUA_REDE_PUBLICA               0.1061      0.160      0.664      0.507      -0.209       0.421\n",
            "IN_AGUA_CACIMBA                   -0.0081      0.133     -0.061      0.951      -0.270       0.254\n",
            "IN_ESGOTO_REDE_PUBLICA             0.0009      0.178      0.005      0.996      -0.350       0.352\n",
            "IN_ESGOTO_FOSSA_SEPTICA           -0.0613      0.174     -0.353      0.724      -0.404       0.281\n",
            "IN_ESGOTO_FOSSA                    0.1060      0.222      0.477      0.634      -0.332       0.544\n",
            "IN_TRATAMENTO_LIXO_SEPARACAO       0.0197      0.050      0.393      0.695      -0.079       0.119\n",
            "IN_TRATAMENTO_LIXO_INEXISTENTE    -0.0379      0.054     -0.697      0.486      -0.145       0.069\n",
            "IN_ALMOXARIFADO                   -0.2646      0.101     -2.621      0.009      -0.464      -0.066\n",
            "IN_AREA_VERDE                      0.1030      0.102      1.009      0.314      -0.098       0.304\n",
            "IN_AUDITORIO                       0.0639      0.114      0.562      0.575      -0.160       0.288\n",
            "IN_BANHEIRO_PNE                   -0.0530      0.106     -0.498      0.619      -0.263       0.157\n",
            "IN_BANHEIRO_FUNCIONARIOS           0.0256      0.094      0.272      0.786      -0.160       0.212\n",
            "IN_BANHEIRO_CHUVEIRO              -0.0275      0.101     -0.271      0.786      -0.227       0.172\n",
            "IN_BIBLIOTECA                     -0.1006      0.255     -0.394      0.694      -0.603       0.402\n",
            "IN_BIBLIOTECA_SALA_LEITURA         0.1476      0.275      0.538      0.591      -0.393       0.689\n",
            "IN_DESPENSA                       -0.1486      0.147     -1.011      0.313      -0.438       0.141\n",
            "IN_LABORATORIO_CIENCIAS            0.1643      0.100      1.644      0.102      -0.033       0.361\n",
            "IN_LABORATORIO_INFORMATICA         0.3900      0.157      2.480      0.014       0.080       0.700\n",
            "IN_PATIO_COBERTO                  -0.1338      0.095     -1.407      0.161      -0.321       0.054\n",
            "IN_PATIO_DESCOBERTO                0.0865      0.097      0.895      0.372      -0.104       0.277\n",
            "IN_QUADRA_ESPORTES                -0.5554      0.296     -1.877      0.062      -1.139       0.028\n",
            "IN_QUADRA_ESPORTES_COBERTA         0.5994      0.291      2.057      0.041       0.025       1.174\n",
            "IN_QUADRA_ESPORTES_DESCOBERTA      0.4700      0.277      1.698      0.091      -0.076       1.016\n",
            "IN_REFEITORIO                      0.0911      0.098      0.929      0.354      -0.102       0.285\n",
            "IN_SALA_DIRETORIA                  0.0666      0.150      0.444      0.658      -0.229       0.362\n",
            "IN_SALA_LEITURA                   -0.1127      0.137     -0.822      0.412      -0.383       0.158\n",
            "IN_SALA_PROFESSOR                 -0.0303      0.140     -0.217      0.829      -0.306       0.245\n",
            "IN_SALA_ATENDIMENTO_ESPECIAL      -0.0240      0.111     -0.216      0.829      -0.243       0.195\n",
            "IN_ACESSIBILIDADE_CORRIMAO        -0.0169      0.103     -0.164      0.870      -0.220       0.186\n",
            "IN_ACESSIBILIDADE_VAO_LIVRE       -0.1407      0.112     -1.251      0.212      -0.362       0.081\n",
            "IN_ACESSIBILIDADE_RAMPAS          -0.1910      0.180     -1.063      0.289      -0.545       0.163\n",
            "IN_ACESSIBILIDADE_INEXISTENTE     -0.2794      0.215     -1.302      0.194      -0.702       0.144\n",
            "IN_EQUIP_PARABOLICA                0.1004      0.124      0.813      0.417      -0.143       0.344\n",
            "IN_EQUIP_COPIADORA                 0.0559      0.121      0.461      0.645      -0.183       0.295\n",
            "IN_EQUIP_IMPRESSORA                0.1560      0.097      1.603      0.110      -0.036       0.348\n",
            "IN_EQUIP_IMPRESSORA_MULT          -0.0707      0.106     -0.669      0.504      -0.279       0.138\n",
            "IN_EQUIP_SCANNER                  -0.1277      0.161     -0.793      0.428      -0.445       0.189\n",
            "IN_EQUIP_DVD                       0.0286      0.103      0.277      0.782      -0.175       0.232\n",
            "IN_EQUIP_SOM                      -0.0278      0.146     -0.190      0.850      -0.316       0.261\n",
            "IN_EQUIP_LOUSA_DIGITAL            -0.0311      0.104     -0.298      0.766      -0.236       0.174\n",
            "IN_EQUIP_MULTIMIDIA                0.1240      0.125      0.994      0.321      -0.122       0.370\n",
            "IN_DESKTOP_ALUNO                  -0.1053      0.143     -0.737      0.462      -0.387       0.176\n",
            "IN_COMP_PORTATIL_ALUNO             0.0360      0.096      0.374      0.709      -0.154       0.226\n",
            "IN_INTERNET_ALUNOS                -0.3062      0.277     -1.103      0.271      -0.853       0.241\n",
            "IN_INTERNET_ADMINISTRATIVO         0.0922      0.145      0.635      0.526      -0.194       0.379\n",
            "IN_INTERNET_APRENDIZAGEM           0.0179      0.094      0.191      0.848      -0.166       0.202\n",
            "IN_ACESSO_INTERNET_COMPUTADOR      0.1274      0.265      0.480      0.631      -0.395       0.650\n",
            "IN_ACES_INTERNET_DISP_PESSOAIS     0.2244      0.133      1.684      0.094      -0.038       0.487\n",
            "IN_PROF_BIBLIOTECARIO              0.0794      0.103      0.770      0.442      -0.124       0.283\n",
            "IN_PROF_COORDENADOR                0.0609      0.103      0.592      0.554      -0.142       0.264\n",
            "IN_PROF_ALIMENTACAO               -0.1370      0.130     -1.053      0.293      -0.393       0.119\n",
            "IN_PROF_PEDAGOGIA                  0.2372      0.099      2.392      0.018       0.042       0.433\n",
            "IN_PROF_SECRETARIO                -0.3702      0.136     -2.728      0.007      -0.638      -0.103\n",
            "IN_PROF_SEGURANCA                  0.0913      0.092      0.997      0.320      -0.089       0.272\n",
            "IN_PROF_MONITORES                  0.0948      0.102      0.928      0.355      -0.107       0.296\n",
            "IN_MATERIAL_PED_MULTIMIDIA        -0.0298      0.092     -0.323      0.747      -0.211       0.152\n",
            "IN_MATERIAL_PED_CIENTIFICO        -0.0205      0.096     -0.215      0.830      -0.209       0.168\n",
            "IN_MATERIAL_PED_DIFUSAO           -0.0552      0.099     -0.557      0.578      -0.250       0.140\n",
            "IN_MATERIAL_PED_MUSICAL            0.0166      0.090      0.183      0.855      -0.162       0.195\n",
            "IN_MATERIAL_PED_JOGOS              0.0237      0.092      0.257      0.797      -0.157       0.205\n",
            "IN_MATERIAL_PED_ARTISTICAS         0.1085      0.110      0.984      0.326      -0.109       0.326\n",
            "IN_MATERIAL_PED_DESPORTIVA        -0.0218      0.097     -0.225      0.822      -0.212       0.169\n",
            "IN_REDES_SOCIAIS                  -0.0130      0.068     -0.192      0.848      -0.147       0.121\n",
            "IN_ESPACO_ATIVIDADE                0.0231      0.071      0.327      0.744      -0.116       0.162\n",
            "IN_ESPACO_EQUIPAMENTO             -0.0289      0.065     -0.446      0.656      -0.157       0.099\n",
            "IN_ORGAO_GREMIO_ESTUDANTIL         0.1343      0.086      1.568      0.118      -0.035       0.303\n",
            "IN_ORGAO_OUTROS                   -0.1006      0.087     -1.154      0.250      -0.273       0.071\n",
            "IN_NOTURNO                        -0.4306      0.166     -2.591      0.010      -0.758      -0.103\n",
            "IN_FUND                           -0.8128      0.557     -1.459      0.146      -1.911       0.285\n",
            "IN_FUND_AF                         0.8985      0.551      1.630      0.105      -0.188       1.985\n",
            "IN_PROF                            0.0848      0.305      0.278      0.781      -0.517       0.686\n",
            "IN_PROF_TEC                        0.0750      0.328      0.229      0.819      -0.571       0.721\n",
            "IN_EJA                            -0.2198      0.351     -0.626      0.532      -0.912       0.472\n",
            "IN_EJA_FUND                       -0.0831      0.118     -0.704      0.482      -0.316       0.150\n",
            "IN_EJA_MED                         0.3290      0.319      1.030      0.304      -0.301       0.958\n",
            "IN_ESP                            -0.0183      0.068     -0.268      0.789      -0.153       0.117\n",
            "IN_ESP_CC                         -0.0183      0.068     -0.268      0.789      -0.153       0.117\n",
            "==============================================================================\n",
            "Omnibus:                        3.580   Durbin-Watson:                   2.072\n",
            "Prob(Omnibus):                  0.167   Jarque-Bera (JB):                3.197\n",
            "Skew:                           0.177   Prob(JB):                        0.202\n",
            "Kurtosis:                       2.631   Cond. No.                     1.70e+16\n",
            "==============================================================================\n",
            "\n",
            "Notes:\n",
            "[1] Standard Errors assume that the covariance matrix of the errors is correctly specified.\n",
            "[2] The smallest eigenvalue is 4.81e-29. This might indicate that there are\n",
            "strong multicollinearity problems or that the design matrix is singular.\n"
          ]
        },
        {
          "output_type": "stream",
          "name": "stderr",
          "text": [
            "/usr/local/lib/python3.8/dist-packages/statsmodels/tsa/tsatools.py:142: FutureWarning: In a future version of pandas all arguments of concat except for the argument 'objs' will be keyword-only\n",
            "  x = pd.concat(x[::order], 1)\n"
          ]
        }
      ]
    },
    {
      "cell_type": "code",
      "source": [
        "# Gráfico dos resíduos\n",
        "fig, ax = plt.subplots(figsize=(6, 4))\n",
        "sns.regplot(x=results.fittedvalues, y=results.resid, \n",
        "            scatter_kws={'alpha': 0.25},\n",
        "            line_kws={'color': 'C1'},\n",
        "            lowess=True, ax=ax)\n",
        "ax.set_xlabel('predicted')\n",
        "ax.set_ylabel('residual')\n",
        "\n",
        "plt.tight_layout()\n",
        "plt.show()"
      ],
      "metadata": {
        "colab": {
          "base_uri": "https://localhost:8080/",
          "height": 293
        },
        "id": "8wSK-Prxos9k",
        "outputId": "d6b1adb6-146d-48e0-c0b6-8775046b454a"
      },
      "execution_count": null,
      "outputs": [
        {
          "output_type": "display_data",
          "data": {
            "text/plain": [
              "<Figure size 432x288 with 1 Axes>"
            ],
            "image/png": "[encoded data removed]"
          },
          "metadata": {}
        }
      ]
    },
    {
      "cell_type": "code",
      "source": [
        "# Distribuição dos resíduos\n",
        "fig, ax = plt.subplots(figsize=(6, 4))\n",
        "pd.Series(results.resid).hist(ax=ax)\n",
        "ax.set_xlabel('std. residual')\n",
        "ax.set_ylabel('Frequency')\n",
        "\n",
        "plt.tight_layout()\n",
        "plt.show()"
      ],
      "metadata": {
        "colab": {
          "base_uri": "https://localhost:8080/",
          "height": 293
        },
        "id": "qYwngaAcpBiu",
        "outputId": "f954faf1-b9ed-4977-e52f-2e7dbd659dbd"
      },
      "execution_count": null,
      "outputs": [
        {
          "output_type": "display_data",
          "data": {
            "text/plain": [
              "<Figure size 432x288 with 1 Axes>"
            ],
            "image/png": "[encoded data removed]"
          },
          "metadata": {}
        }
      ]
    },
    {
      "cell_type": "markdown",
      "source": [
        "## Para as variáveis filtradas desde o teste-t até a multicolinearidade"
      ],
      "metadata": {
        "id": "XJufSpjAB8gt"
      }
    },
    {
      "cell_type": "code",
      "source": [
        "#Calculando a regressão com stat models para o dataset das variáveis filtradas no teste-t\n",
        "x_filter = sm.add_constant(X_filter)\n",
        "results_filter = sm.OLS(y, x_filter).fit()\n",
        "print(results_filter.summary())"
      ],
      "metadata": {
        "colab": {
          "base_uri": "https://localhost:8080/"
        },
        "id": "ACRUrKI4B_U0",
        "outputId": "86b04b2b-845e-4709-a842-f5b5473e5d8b"
      },
      "execution_count": null,
      "outputs": [
        {
          "output_type": "stream",
          "name": "stdout",
          "text": [
            "                            OLS Regression Results                            \n",
            "==============================================================================\n",
            "Dep. Variable:      VL_OBSERVADO_2019   R-squared:                       0.227\n",
            "Model:                            OLS   Adj. R-squared:                  0.179\n",
            "Method:                 Least Squares   F-statistic:                     4.737\n",
            "Date:                Tue, 13 Dec 2022   Prob (F-statistic):           7.95e-09\n",
            "Time:                        17:30:25   Log-Likelihood:                -270.32\n",
            "No. Observations:                 293   AIC:                             576.6\n",
            "Df Residuals:                     275   BIC:                             642.9\n",
            "Df Model:                          17                                         \n",
            "Covariance Type:            nonrobust                                         \n",
            "==================================================================================================\n",
            "                                     coef    std err          t      P>|t|      [0.025      0.975]\n",
            "--------------------------------------------------------------------------------------------------\n",
            "const                              3.7836      0.168     22.547      0.000       3.453       4.114\n",
            "IN_AUDITORIO                       0.0506      0.096      0.527      0.599      -0.138       0.240\n",
            "IN_BIBLIOTECA                     -0.0469      0.110     -0.428      0.669      -0.263       0.169\n",
            "IN_LABORATORIO_CIENCIAS            0.1255      0.083      1.506      0.133      -0.039       0.290\n",
            "IN_LABORATORIO_INFORMATICA         0.2240      0.112      1.994      0.047       0.003       0.445\n",
            "IN_QUADRA_ESPORTES_COBERTA         0.0848      0.084      1.011      0.313      -0.080       0.250\n",
            "IN_REFEITORIO                      0.0702      0.081      0.863      0.389      -0.090       0.230\n",
            "IN_EQUIP_IMPRESSORA                0.1527      0.077      1.975      0.049       0.000       0.305\n",
            "IN_ACES_INTERNET_DISP_PESSOAIS     0.0543      0.096      0.564      0.573      -0.135       0.244\n",
            "IN_PROF_BIBLIOTECARIO              0.1192      0.090      1.329      0.185      -0.057       0.296\n",
            "IN_PROF_COORDENADOR                0.0845      0.092      0.914      0.361      -0.097       0.267\n",
            "IN_PROF_PEDAGOGIA                  0.1537      0.083      1.856      0.065      -0.009       0.317\n",
            "IN_PROF_SECRETARIO                -0.3809      0.116     -3.291      0.001      -0.609      -0.153\n",
            "IN_PROF_MONITORES                  0.1187      0.089      1.339      0.182      -0.056       0.293\n",
            "IN_NOTURNO                        -0.2989      0.098     -3.061      0.002      -0.491      -0.107\n",
            "IN_FUND                            0.0027      0.086      0.032      0.975      -0.166       0.172\n",
            "IN_PROF                            0.1435      0.103      1.387      0.167      -0.060       0.347\n",
            "IN_EJA_FUND                       -0.0811      0.093     -0.876      0.382      -0.263       0.101\n",
            "==============================================================================\n",
            "Omnibus:                        1.506   Durbin-Watson:                   1.926\n",
            "Prob(Omnibus):                  0.471   Jarque-Bera (JB):                1.453\n",
            "Skew:                           0.080   Prob(JB):                        0.484\n",
            "Kurtosis:                       2.695   Cond. No.                         13.0\n",
            "==============================================================================\n",
            "\n",
            "Notes:\n",
            "[1] Standard Errors assume that the covariance matrix of the errors is correctly specified.\n"
          ]
        },
        {
          "output_type": "stream",
          "name": "stderr",
          "text": [
            "/usr/local/lib/python3.8/dist-packages/statsmodels/tsa/tsatools.py:142: FutureWarning: In a future version of pandas all arguments of concat except for the argument 'objs' will be keyword-only\n",
            "  x = pd.concat(x[::order], 1)\n"
          ]
        }
      ]
    },
    {
      "cell_type": "code",
      "source": [
        "# Gráfico de resíduos\n",
        "fig, ax = plt.subplots(figsize=(6, 4))\n",
        "sns.regplot(x=results_filter.fittedvalues, y=results_filter.resid, \n",
        "            scatter_kws={'alpha': 0.25},\n",
        "            line_kws={'color': 'C1'},\n",
        "            lowess=True, ax=ax)\n",
        "ax.set_xlabel('predicted')\n",
        "ax.set_ylabel('residual')\n",
        "\n",
        "plt.tight_layout()\n",
        "plt.show()"
      ],
      "metadata": {
        "colab": {
          "base_uri": "https://localhost:8080/",
          "height": 293
        },
        "id": "9I9mhukoCO8t",
        "outputId": "fbc16a69-e990-42a9-ae2e-a4c78822ffec"
      },
      "execution_count": null,
      "outputs": [
        {
          "output_type": "display_data",
          "data": {
            "text/plain": [
              "<Figure size 432x288 with 1 Axes>"
            ],
            "image/png": "[encoded data removed]"
          },
          "metadata": {}
        }
      ]
    },
    {
      "cell_type": "code",
      "source": [
        "# Distribuição dos resíduos\n",
        "fig, ax = plt.subplots(figsize=(6, 4))\n",
        "pd.Series(results_filter.resid).hist(ax=ax)\n",
        "ax.set_xlabel('std. residual')\n",
        "ax.set_ylabel('Frequency')\n",
        "\n",
        "plt.tight_layout()\n",
        "plt.show()"
      ],
      "metadata": {
        "colab": {
          "base_uri": "https://localhost:8080/",
          "height": 293
        },
        "id": "tmT78k12CUYf",
        "outputId": "7b0e054e-d7d7-4d67-da51-6f976e7f09f6"
      },
      "execution_count": null,
      "outputs": [
        {
          "output_type": "display_data",
          "data": {
            "text/plain": [
              "<Figure size 432x288 with 1 Axes>"
            ],
            "image/png": "[encoded data removed]"
          },
          "metadata": {}
        }
      ]
    },
    {
      "cell_type": "markdown",
      "source": [
        "# Importância dos coeficientes das variáveis filtradas no modelo de Regressão Linear"
      ],
      "metadata": {
        "id": "EUcri5rNCEEq"
      }
    },
    {
      "cell_type": "code",
      "source": [
        "# Importância dos coeficientes das variáveis filtradas\n",
        "model_all = regression_all.fit(X_filter, y)\n",
        "coefs = pd.DataFrame({\n",
        "   'coeficiente': model_all.coef_,\n",
        "   'coef_abs': abs(model_all.coef_),\n",
        "   'valor': X_filter.columns\n",
        "}).sort_values(['coef_abs'], ascending=False)\n",
        "plt.figure(figsize=(20, 10))\n",
        "sns.barplot(data=coefs, y='valor', x='coeficiente')\n",
        "plt.axvline(x=0, color='.5')\n",
        "plt.title('Importância do coeficiente e sua variabilidade')\n",
        "plt.subplots_adjust(left=.3)"
      ],
      "metadata": {
        "id": "l39EAU4ihe5t",
        "colab": {
          "base_uri": "https://localhost:8080/",
          "height": 542
        },
        "outputId": "068a9a8b-1b8c-4bf3-9a67-f9a232d80314"
      },
      "execution_count": null,
      "outputs": [
        {
          "output_type": "display_data",
          "data": {
            "text/plain": [
              "<Figure size 1440x720 with 1 Axes>"
            ],
            "image/png": "[encoded data removed]"
          },
          "metadata": {}
        }
      ]
    }
  ]
}